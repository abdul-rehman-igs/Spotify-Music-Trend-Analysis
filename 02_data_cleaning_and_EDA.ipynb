{
 "cells": [
  {
   "cell_type": "markdown",
   "id": "ad2bb9f4",
   "metadata": {},
   "source": [
    "# Data Cleaning & EDA\n",
    "\n",
    "This notebook prepares the Spotify dataset for trend analysis.  \n",
    "Steps:\n",
    "1. Load merged dataset\n",
    "2. Handle missing values & duplicates\n",
    "3. Clean categorical values (genres, artists, etc.)\n",
    "4. Analyze:\n",
    "   - Top artists\n",
    "   - Top songs\n",
    "   - Genre trends\n",
    "   - Seasonal/Yearly patterns"
   ]
  },
  {
   "cell_type": "code",
   "execution_count": 1,
   "id": "8443354c",
   "metadata": {},
   "outputs": [],
   "source": [
    "import pandas as pd\n",
    "import numpy as np\n",
    "import matplotlib.pyplot as plt\n",
    "import seaborn as sns\n",
    "import plotly.express as px\n",
    "\n",
    "# Display settings\n",
    "pd.set_option(\"display.max_columns\", 50)"
   ]
  },
  {
   "cell_type": "code",
   "execution_count": null,
   "id": "089432fd",
   "metadata": {},
   "outputs": [],
   "source": [
    "df = pd.read_csv(\"data/processed/spotify_merged.csv\")\n",
    "print(df.shape)\n",
    "df.head()"
   ]
  },
  {
   "cell_type": "code",
   "execution_count": null,
   "id": "452e1837",
   "metadata": {},
   "outputs": [],
   "source": [
    "# Drop duplicates\n",
    "df = df.drop_duplicates()\n",
    "\n",
    "# Handle missing values\n",
    "missing = df.isnull().sum()\n",
    "print(\"Missing values:\\n\", missing[missing > 0])\n",
    "\n",
    "# Example: fill popularity with mean\n",
    "if \"popularity\" in df.columns:\n",
    "    df[\"popularity\"] = df[\"popularity\"].fillna(df[\"popularity\"].mean())\n",
    "\n",
    "# Drop rows where track name or artist is missing\n",
    "df = df.dropna(subset=[\"track_name\", \"artist_names\"])"
   ]
  },
  {
   "cell_type": "code",
   "execution_count": null,
   "id": "bb1b92a9",
   "metadata": {},
   "outputs": [],
   "source": [
    "# Ensure date column is datetime\n",
    "df[\"date\"] = pd.to_datetime(df[\"date\"], errors=\"coerce\")\n",
    "\n",
    "# Extract year, month\n",
    "df[\"year\"] = df[\"date\"].dt.year\n",
    "df[\"month\"] = df[\"date\"].dt.month"
   ]
  },
  {
   "cell_type": "code",
   "execution_count": null,
   "id": "e9bc178b",
   "metadata": {},
   "outputs": [],
   "source": [
    "top_artists = df.groupby(\"artist_names\")[\"streams\"].sum().reset_index()\n",
    "top_artists = top_artists.sort_values(by=\"streams\", ascending=False).head(10)\n",
    "\n",
    "plt.figure(figsize=(10,6))\n",
    "sns.barplot(data=top_artists, x=\"streams\", y=\"artist_names\", palette=\"viridis\")\n",
    "plt.title(\"Top 10 Artists by Total Streams\")\n",
    "plt.show()"
   ]
  },
  {
   "cell_type": "code",
   "execution_count": null,
   "id": "b71693ea",
   "metadata": {},
   "outputs": [],
   "source": [
    "top_songs = df.groupby(\"track_name\")[\"streams\"].sum().reset_index()\n",
    "top_songs = top_songs.sort_values(by=\"streams\", ascending=False).head(10)\n",
    "\n",
    "fig = px.bar(top_songs, x=\"streams\", y=\"track_name\", orientation=\"h\",\n",
    "             title=\"Top 10 Songs by Streams\", color=\"streams\")\n",
    "fig.show()"
   ]
  },
  {
   "cell_type": "code",
   "execution_count": null,
   "id": "17b277ce",
   "metadata": {},
   "outputs": [],
   "source": [
    "if \"genre\" in df.columns:\n",
    "    genre_trends = df.groupby([\"year\", \"genre\"])[\"streams\"].sum().reset_index()\n",
    "    \n",
    "    fig = px.line(genre_trends, x=\"year\", y=\"streams\", color=\"genre\",\n",
    "                  title=\"Genre Popularity Over Years\")\n",
    "    fig.show()\n"
   ]
  },
  {
   "cell_type": "code",
   "execution_count": null,
   "id": "04112a1b",
   "metadata": {},
   "outputs": [],
   "source": [
    "seasonal = df.groupby(\"month\")[\"streams\"].sum().reset_index()\n",
    "\n",
    "plt.figure(figsize=(10,6))\n",
    "sns.lineplot(data=seasonal, x=\"month\", y=\"streams\", marker=\"o\")\n",
    "plt.title(\"Seasonal Music Trends (by Month)\")\n",
    "plt.xticks(range(1,13))\n",
    "plt.show()"
   ]
  },
  {
   "cell_type": "code",
   "execution_count": null,
   "id": "2e02c9d0",
   "metadata": {},
   "outputs": [],
   "source": [
    "if \"popularity\" in df.columns:\n",
    "    plt.figure(figsize=(8,5))\n",
    "    sns.histplot(df[\"popularity\"], bins=30, kde=True, color=\"green\")\n",
    "    plt.title(\"Distribution of Song Popularity\")\n",
    "    plt.xlabel(\"Popularity Score (0-100)\")\n",
    "    plt.show()"
   ]
  },
  {
   "cell_type": "code",
   "execution_count": null,
   "id": "a4cb14bc",
   "metadata": {},
   "outputs": [],
   "source": [
    "audio_features = [\"danceability\", \"energy\", \"valence\", \"tempo\", \"acousticness\", \"instrumentalness\", \"liveness\", \"speechiness\"]\n",
    "\n",
    "features_df = df[audio_features].dropna()\n",
    "\n",
    "plt.figure(figsize=(10,7))\n",
    "sns.heatmap(features_df.corr(), annot=True, cmap=\"coolwarm\", fmt=\".2f\")\n",
    "plt.title(\"Correlation Between Audio Features\")\n",
    "plt.show()\n"
   ]
  },
  {
   "cell_type": "code",
   "execution_count": null,
   "id": "a1c161e5",
   "metadata": {},
   "outputs": [],
   "source": [
    "yearly_features = df.groupby(\"year\")[audio_features].mean().reset_index()\n",
    "\n",
    "fig = px.line(yearly_features, x=\"year\", y=\"danceability\", title=\"Average Danceability Over Years\")\n",
    "fig.show()\n",
    "\n",
    "fig = px.line(yearly_features, x=\"year\", y=\"energy\", title=\"Average Energy Over Years\")\n",
    "fig.show()\n",
    "\n",
    "fig = px.line(yearly_features, x=\"year\", y=\"tempo\", title=\"Average Tempo Over Years\")\n",
    "fig.show()\n"
   ]
  },
  {
   "cell_type": "code",
   "execution_count": null,
   "id": "dbbd8863",
   "metadata": {},
   "outputs": [],
   "source": [
    "top_countries = df.groupby(\"region\")[\"streams\"].sum().reset_index().sort_values(by=\"streams\", ascending=False).head(10)\n",
    "\n",
    "plt.figure(figsize=(10,6))\n",
    "sns.barplot(data=top_countries, x=\"streams\", y=\"region\", palette=\"magma\")\n",
    "plt.title(\"Top 10 Countries by Total Streams\")\n",
    "plt.show()"
   ]
  },
  {
   "cell_type": "code",
   "execution_count": null,
   "id": "bf7f8335",
   "metadata": {},
   "outputs": [],
   "source": [
    "artist_trends = df.groupby([\"year\", \"artist_names\"])[\"streams\"].sum().reset_index()\n",
    "\n",
    "top5_artists = artist_trends.groupby(\"artist_names\")[\"streams\"].sum().nlargest(5).index\n",
    "filtered = artist_trends[artist_trends[\"artist_names\"].isin(top5_artists)]\n",
    "\n",
    "fig = px.line(filtered, x=\"year\", y=\"streams\", color=\"artist_names\",\n",
    "              title=\"Top 5 Artists Trends Over Years\")\n",
    "fig.show()"
   ]
  },
  {
   "cell_type": "code",
   "execution_count": null,
   "id": "d8279bcb",
   "metadata": {},
   "outputs": [],
   "source": [
    "from wordcloud import WordCloud\n",
    "import matplotlib.pyplot as plt\n",
    "\n",
    "text = \" \".join(df[\"track_name\"].dropna().astype(str))\n",
    "wordcloud = WordCloud(width=800, height=400, background_color=\"black\").generate(text)\n",
    "\n",
    "plt.figure(figsize=(12,6))\n",
    "plt.imshow(wordcloud, interpolation=\"bilinear\")\n",
    "plt.axis(\"off\")\n",
    "plt.title(\"Most Common Words in Song Titles\")\n",
    "plt.show()"
   ]
  },
  {
   "cell_type": "code",
   "execution_count": null,
   "id": "7fb7350f",
   "metadata": {},
   "outputs": [],
   "source": [
    "# Save key summaries for reporting\n",
    "top_artists.to_csv(\"data/processed/top_artists.csv\", index=False)\n",
    "top_songs.to_csv(\"data/processed/top_songs.csv\", index=False)\n",
    "top_countries.to_csv(\"data/processed/top_countries.csv\", index=False)\n",
    "yearly_features.to_csv(\"data/processed/yearly_features.csv\", index=False)"
   ]
  },
  {
   "cell_type": "code",
   "execution_count": null,
   "id": "afa55e3a",
   "metadata": {},
   "outputs": [],
   "source": [
    "df.to_csv(\"data/processed/spotify_cleaned.csv\", index=False)"
   ]
  },
  {
   "cell_type": "markdown",
   "id": "be9a0117",
   "metadata": {},
   "source": [
    "# Wrap-Up\n",
    "\n",
    "This notebook:\n",
    "- Cleaned and preprocessed the Spotify dataset\n",
    "- Found top artists & songs\n",
    "- Analyzed genres over time\n",
    "- Explored seasonal music patterns\n",
    "\n",
    "Next step:  \n",
    "📓 `03_dashboard_powerbi.pbix` → Create a Power BI Dashboard for interactive insights."
   ]
  }
 ],
 "metadata": {
  "kernelspec": {
   "display_name": "Python 3",
   "language": "python",
   "name": "python3"
  },
  "language_info": {
   "codemirror_mode": {
    "name": "ipython",
    "version": 3
   },
   "file_extension": ".py",
   "mimetype": "text/x-python",
   "name": "python",
   "nbconvert_exporter": "python",
   "pygments_lexer": "ipython3",
   "version": "3.13.7"
  }
 },
 "nbformat": 4,
 "nbformat_minor": 5
}
